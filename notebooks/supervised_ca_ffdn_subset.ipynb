{
 "cells": [
  {
   "cell_type": "markdown",
   "id": "7fb27b941602401d91542211134fc71a",
   "metadata": {
    "colab_type": "text",
    "id": "view-in-github"
   },
   "source": [
    "<a href=\"https://colab.research.google.com/github/kashperova/ssl-hsi-course-work/blob/main/notebooks/supervised_ca_ffdn_subset.ipynb\" target=\"_parent\"><img src=\"https://colab.research.google.com/assets/colab-badge.svg\" alt=\"Open In Colab\"/></a>"
   ]
  },
  {
   "cell_type": "code",
   "execution_count": 1,
   "id": "4df4b339af110891",
   "metadata": {
    "colab": {
     "base_uri": "https://localhost:8080/"
    },
    "id": "4df4b339af110891",
    "outputId": "37322379-94a7-49a8-c550-48bb1317891e"
   },
   "outputs": [
    {
     "name": "stdout",
     "output_type": "stream",
     "text": [
      "Mounted at /content/gdrive\n"
     ]
    }
   ],
   "source": [
    "from google.colab import drive\n",
    "\n",
    "drive.mount(\"/content/gdrive\")"
   ]
  },
  {
   "cell_type": "code",
   "execution_count": 3,
   "id": "584d43e5d4a0ae40",
   "metadata": {
    "colab": {
     "base_uri": "https://localhost:8080/"
    },
    "id": "584d43e5d4a0ae40",
    "outputId": "f0a9e43f-383a-4db4-b096-eaf5b45a4006"
   },
   "outputs": [
    {
     "name": "stdout",
     "output_type": "stream",
     "text": [
      "Cloning into 'ssl-hsi-course-work'...\n",
      "remote: Enumerating objects: 43, done.\u001b[K\n",
      "remote: Counting objects: 100% (43/43), done.\u001b[K\n",
      "remote: Compressing objects: 100% (38/38), done.\u001b[K\n",
      "remote: Total 43 (delta 1), reused 43 (delta 1), pack-reused 0 (from 0)\u001b[K\n",
      "Receiving objects: 100% (43/43), 38.97 MiB | 17.71 MiB/s, done.\n",
      "Resolving deltas: 100% (1/1), done.\n"
     ]
    }
   ],
   "source": [
    "!git clone https://@github.com/kashperova/ssl-hsi-course-work.git"
   ]
  },
  {
   "cell_type": "code",
   "execution_count": 1,
   "id": "c4cabcd2d1a5ad29",
   "metadata": {
    "colab": {
     "base_uri": "https://localhost:8080/"
    },
    "id": "c4cabcd2d1a5ad29",
    "outputId": "d09d60fb-24fe-42c6-f997-ae61a6f27921"
   },
   "outputs": [
    {
     "name": "stdout",
     "output_type": "stream",
     "text": [
      "/content/ssl-hsi-course-work/src\n"
     ]
    }
   ],
   "source": [
    "%cd ssl-hsi-course-work/src"
   ]
  },
  {
   "cell_type": "code",
   "execution_count": 6,
   "id": "ktr9AAeHTSAc",
   "metadata": {
    "colab": {
     "base_uri": "https://localhost:8080/"
    },
    "id": "ktr9AAeHTSAc",
    "outputId": "d875f0d2-1827-4a1e-a122-c90ff7fb6ae4"
   },
   "outputs": [
    {
     "name": "stdout",
     "output_type": "stream",
     "text": [
      "downloading uv 0.7.8 x86_64-unknown-linux-gnu\n",
      "no checksums to verify\n",
      "installing to /usr/local/bin\n",
      "  uv\n",
      "  uvx\n",
      "everything's installed!\n"
     ]
    }
   ],
   "source": [
    "!curl -LsSf https://astral.sh/uv/install.sh | sh"
   ]
  },
  {
   "cell_type": "code",
   "execution_count": null,
   "id": "lb9NQ6cfTVl-",
   "metadata": {
    "id": "lb9NQ6cfTVl-"
   },
   "outputs": [],
   "source": [
    "!uv pip install --system scikit-learn==1.6.0\n",
    "!uv pip install --system seaborn==0.13.0\n",
    "!uv pip install --system matplotlib==3.10.1\n",
    "!uv pip install --system plotly==6.0.0\n",
    "!uv pip install --system torchmetrics==1.7.2\n",
    "!uv pip install --system scipy==1.15.2"
   ]
  },
  {
   "cell_type": "code",
   "execution_count": 2,
   "id": "initial_id",
   "metadata": {
    "ExecuteTime": {
     "end_time": "2025-05-29T18:14:08.677786Z",
     "start_time": "2025-05-29T18:14:02.839560Z"
    },
    "collapsed": true,
    "id": "initial_id"
   },
   "outputs": [],
   "source": [
    "from models.ca_ffdn import CA_FFDN\n",
    "from modules.trainers.supervised import BaseSupervisedTrainer\n",
    "from modules.datasets.hsi import HyperspectralDataset\n",
    "from config.train_config import BaseTrainConfig\n",
    "from utils.seed import set_seed\n",
    "from utils.metrics import Metrics, Task\n",
    "from utils.data import load_hsi_dataset, get_stratified_subset\n",
    "\n",
    "import os\n",
    "import wandb\n",
    "import torch.optim as optim\n",
    "from torch.utils.data import Subset, Dataset\n",
    "\n",
    "from torch import nn"
   ]
  },
  {
   "cell_type": "code",
   "execution_count": 9,
   "id": "491f15b4e0199a7c",
   "metadata": {
    "ExecuteTime": {
     "end_time": "2025-05-29T18:14:15.252621Z",
     "start_time": "2025-05-29T18:14:15.245966Z"
    },
    "id": "491f15b4e0199a7c"
   },
   "outputs": [],
   "source": [
    "os.environ[\"WANDB_API_KEY\"] = \"\""
   ]
  },
  {
   "cell_type": "code",
   "execution_count": 3,
   "id": "244fa4ef3090874d",
   "metadata": {
    "ExecuteTime": {
     "end_time": "2025-05-29T18:17:02.694952Z",
     "start_time": "2025-05-29T18:17:00.304549Z"
    },
    "colab": {
     "base_uri": "https://localhost:8080/",
     "height": 162
    },
    "id": "244fa4ef3090874d",
    "outputId": "ce33985f-d9f9-4acd-f424-567c8eed95af"
   },
   "outputs": [
    {
     "name": "stderr",
     "output_type": "stream",
     "text": [
      "\u001b[34m\u001b[1mwandb\u001b[0m: Currently logged in as: \u001b[33mskashperova\u001b[0m (\u001b[33mkashperova-test\u001b[0m) to \u001b[32mhttps://api.wandb.ai\u001b[0m. Use \u001b[1m`wandb login --relogin`\u001b[0m to force relogin\n"
     ]
    },
    {
     "data": {
      "text/html": [
       "Tracking run with wandb version 0.19.11"
      ],
      "text/plain": [
       "<IPython.core.display.HTML object>"
      ]
     },
     "metadata": {},
     "output_type": "display_data"
    },
    {
     "data": {
      "text/html": [
       "Run data is saved locally in <code>/content/ssl-hsi-course-work/src/wandb/run-20250529_193835-tj8ei1vq</code>"
      ],
      "text/plain": [
       "<IPython.core.display.HTML object>"
      ]
     },
     "metadata": {},
     "output_type": "display_data"
    },
    {
     "data": {
      "text/html": [
       "Syncing run <strong><a href='https://wandb.ai/kashperova-test/ssl-hsi-course-work-src/runs/tj8ei1vq' target=\"_blank\">stellar-terrain-7</a></strong> to <a href='https://wandb.ai/kashperova-test/ssl-hsi-course-work-src' target=\"_blank\">Weights & Biases</a> (<a href='https://wandb.me/developer-guide' target=\"_blank\">docs</a>)<br>"
      ],
      "text/plain": [
       "<IPython.core.display.HTML object>"
      ]
     },
     "metadata": {},
     "output_type": "display_data"
    },
    {
     "data": {
      "text/html": [
       " View project at <a href='https://wandb.ai/kashperova-test/ssl-hsi-course-work-src' target=\"_blank\">https://wandb.ai/kashperova-test/ssl-hsi-course-work-src</a>"
      ],
      "text/plain": [
       "<IPython.core.display.HTML object>"
      ]
     },
     "metadata": {},
     "output_type": "display_data"
    },
    {
     "data": {
      "text/html": [
       " View run at <a href='https://wandb.ai/kashperova-test/ssl-hsi-course-work-src/runs/tj8ei1vq' target=\"_blank\">https://wandb.ai/kashperova-test/ssl-hsi-course-work-src/runs/tj8ei1vq</a>"
      ],
      "text/plain": [
       "<IPython.core.display.HTML object>"
      ]
     },
     "metadata": {},
     "output_type": "display_data"
    },
    {
     "data": {
      "text/html": [
       "<button onClick=\"this.nextSibling.style.display='block';this.style.display='none';\">Display W&B run</button><iframe src='https://wandb.ai/kashperova-test/ssl-hsi-course-work-src/runs/tj8ei1vq?jupyter=true' style='border:none;width:100%;height:420px;display:none;'></iframe>"
      ],
      "text/plain": [
       "<wandb.sdk.wandb_run.Run at 0x7db0390ee550>"
      ]
     },
     "execution_count": 3,
     "metadata": {},
     "output_type": "execute_result"
    }
   ],
   "source": [
    "wandb.init()"
   ]
  },
  {
   "cell_type": "code",
   "execution_count": 4,
   "id": "ceba28c87dca0f4d",
   "metadata": {
    "ExecuteTime": {
     "end_time": "2025-05-29T18:14:18.449186Z",
     "start_time": "2025-05-29T18:14:18.433907Z"
    },
    "colab": {
     "base_uri": "https://localhost:8080/"
    },
    "id": "ceba28c87dca0f4d",
    "outputId": "bfa83242-2a0a-4443-9585-db074f51f541"
   },
   "outputs": [
    {
     "name": "stdout",
     "output_type": "stream",
     "text": [
      "Random seed set to 42\n"
     ]
    }
   ],
   "source": [
    "set_seed(42)"
   ]
  },
  {
   "cell_type": "code",
   "execution_count": 5,
   "id": "18d962906ec11803",
   "metadata": {
    "ExecuteTime": {
     "end_time": "2025-05-29T18:14:20.982306Z",
     "start_time": "2025-05-29T18:14:20.978869Z"
    },
    "id": "18d962906ec11803"
   },
   "outputs": [],
   "source": [
    "class TrainConfig(BaseTrainConfig):\n",
    "    epochs: int = 50\n",
    "    train_batch_size: int = 64\n",
    "    eval_batch_size: int = 64\n",
    "    train_test_split: float = 0.7"
   ]
  },
  {
   "cell_type": "code",
   "execution_count": 6,
   "id": "1ea953116ba3b257",
   "metadata": {
    "ExecuteTime": {
     "end_time": "2025-05-29T18:14:21.956216Z",
     "start_time": "2025-05-29T18:14:21.806840Z"
    },
    "id": "1ea953116ba3b257"
   },
   "outputs": [],
   "source": [
    "patches, labels = load_hsi_dataset(\n",
    "    dataset_name=\"IndianPines\", root_dir=\"../data\", pca_components=30, patch_size=15\n",
    ")"
   ]
  },
  {
   "cell_type": "code",
   "execution_count": 7,
   "id": "cf518467b4a32fb6",
   "metadata": {
    "ExecuteTime": {
     "end_time": "2025-05-29T18:14:23.006172Z",
     "start_time": "2025-05-29T18:14:23.001942Z"
    },
    "id": "cf518467b4a32fb6"
   },
   "outputs": [],
   "source": [
    "dataset = HyperspectralDataset(patches, labels)\n",
    "dataset10 = get_stratified_subset(dataset, 0.2)\n",
    "dataset20 = get_stratified_subset(dataset, 0.1)"
   ]
  },
  {
   "cell_type": "code",
   "execution_count": 14,
   "id": "b707322e70231e4",
   "metadata": {
    "ExecuteTime": {
     "end_time": "2025-05-29T18:15:08.673205Z",
     "start_time": "2025-05-29T18:15:08.337338Z"
    },
    "id": "b707322e70231e4"
   },
   "outputs": [],
   "source": [
    "def train(subset: Subset, num_classes: int, save_name: str):\n",
    "    model = CA_FFDN(in_channels=30, num_classes=num_classes)\n",
    "    optimizer = optim.Adam(model.parameters(), lr=1e-4)\n",
    "    scheduler = optim.lr_scheduler.ReduceLROnPlateau(optimizer, patience=10, factor=0.5)\n",
    "    criterion = nn.CrossEntropyLoss()\n",
    "\n",
    "    trainer = BaseSupervisedTrainer(\n",
    "        model=model,\n",
    "        optimizer=optimizer,\n",
    "        lr_scheduler=scheduler,\n",
    "        dataset=subset,\n",
    "        config=TrainConfig(),\n",
    "        metrics=Metrics(\n",
    "            task=Task.MULTICLASS_CLASSIFICATION,\n",
    "            num_classes=num_classes,\n",
    "            average=\"micro\",\n",
    "        ),\n",
    "        loss_fn=criterion,\n",
    "        save_dir=\"/content/gdrive/MyDrive/[kpi] ssl course work\",\n",
    "        save_name=save_name,\n",
    "    )\n",
    "    trainer.train(verbose=False)\n",
    "\n",
    "\n",
    "def reinit_wandb():\n",
    "    wandb.finish(quiet=True)\n",
    "    wandb.init()"
   ]
  },
  {
   "cell_type": "code",
   "execution_count": 9,
   "id": "b22bfd6d8b9290df",
   "metadata": {
    "ExecuteTime": {
     "end_time": "2025-05-29T18:15:58.139081Z",
     "start_time": "2025-05-29T18:15:10.995962Z"
    },
    "colab": {
     "base_uri": "https://localhost:8080/"
    },
    "id": "b22bfd6d8b9290df",
    "outputId": "d819aa7f-2d1d-4e8d-b1c0-03759f1fa1ab"
   },
   "outputs": [
    {
     "name": "stderr",
     "output_type": "stream",
     "text": [
      "Training: 100%|██████████| 50/50 [00:31<00:00,  1.60it/s]\n"
     ]
    }
   ],
   "source": [
    "train(dataset20, 16, \"ca_ffdn_20_ip\")"
   ]
  },
  {
   "cell_type": "code",
   "execution_count": null,
   "id": "uwGp8Jp6jkcu",
   "metadata": {
    "id": "uwGp8Jp6jkcu"
   },
   "outputs": [],
   "source": [
    "reinit_wandb()"
   ]
  },
  {
   "cell_type": "code",
   "execution_count": 11,
   "id": "Inox3mIPjDRU",
   "metadata": {
    "colab": {
     "base_uri": "https://localhost:8080/"
    },
    "id": "Inox3mIPjDRU",
    "outputId": "975b55f7-af5f-4779-d9df-54a60b5ad898"
   },
   "outputs": [
    {
     "name": "stderr",
     "output_type": "stream",
     "text": [
      "Training: 100%|██████████| 50/50 [00:51<00:00,  1.03s/it]\n"
     ]
    }
   ],
   "source": [
    "train(dataset10, 16, \"ca_ffdn_10_ip\")"
   ]
  },
  {
   "cell_type": "code",
   "execution_count": 12,
   "id": "8f86b3be6df7461c",
   "metadata": {
    "id": "8f86b3be6df7461c"
   },
   "outputs": [],
   "source": [
    "patches, labels = load_hsi_dataset(\n",
    "    dataset_name=\"PaviaUniversity\", root_dir=\"../data\", pca_components=30, patch_size=15\n",
    ")\n",
    "dataset = HyperspectralDataset(patches, labels)\n",
    "dataset10 = get_stratified_subset(dataset, 0.2)\n",
    "dataset20 = get_stratified_subset(dataset, 0.1)"
   ]
  },
  {
   "cell_type": "code",
   "execution_count": null,
   "id": "QI2VexxwkJAT",
   "metadata": {
    "id": "QI2VexxwkJAT"
   },
   "outputs": [],
   "source": [
    "reinit_wandb()"
   ]
  },
  {
   "cell_type": "code",
   "execution_count": 16,
   "id": "ZUHtWiRHYUOG",
   "metadata": {
    "colab": {
     "base_uri": "https://localhost:8080/"
    },
    "id": "ZUHtWiRHYUOG",
    "outputId": "7724781a-006e-427b-a1d8-21f7c752daee"
   },
   "outputs": [
    {
     "name": "stderr",
     "output_type": "stream",
     "text": [
      "Training: 100%|██████████| 50/50 [01:41<00:00,  2.02s/it]\n"
     ]
    }
   ],
   "source": [
    "train(dataset20, 9, \"ca_ffdn_20_pu\")"
   ]
  },
  {
   "cell_type": "code",
   "execution_count": null,
   "id": "gd_M3tAgkLRD",
   "metadata": {
    "id": "gd_M3tAgkLRD"
   },
   "outputs": [],
   "source": [
    "reinit_wandb()"
   ]
  },
  {
   "cell_type": "code",
   "execution_count": 18,
   "id": "V4BoBOe9Y0ay",
   "metadata": {
    "colab": {
     "base_uri": "https://localhost:8080/"
    },
    "id": "V4BoBOe9Y0ay",
    "outputId": "01fd89a3-8112-4904-9585-8a5fbf9d2536"
   },
   "outputs": [
    {
     "name": "stderr",
     "output_type": "stream",
     "text": [
      "Training: 100%|██████████| 50/50 [03:20<00:00,  4.01s/it]\n"
     ]
    }
   ],
   "source": [
    "train(dataset10, 9, \"ca_ffdn_10_pu\")"
   ]
  },
  {
   "cell_type": "code",
   "execution_count": 20,
   "id": "JiaSrN0Zd5mx",
   "metadata": {
    "id": "JiaSrN0Zd5mx"
   },
   "outputs": [],
   "source": [
    "patches, labels = load_hsi_dataset(\n",
    "    dataset_name=\"KSC\", root_dir=\"../data\", pca_components=30, patch_size=15\n",
    ")\n",
    "dataset = HyperspectralDataset(patches, labels)\n",
    "dataset10 = get_stratified_subset(dataset, 0.2)\n",
    "dataset20 = get_stratified_subset(dataset, 0.1)"
   ]
  },
  {
   "cell_type": "code",
   "execution_count": null,
   "id": "5VFdWGypmTy_",
   "metadata": {
    "id": "5VFdWGypmTy_"
   },
   "outputs": [],
   "source": [
    "reinit_wandb()"
   ]
  },
  {
   "cell_type": "code",
   "execution_count": 22,
   "id": "0aLlsMbZjMSm",
   "metadata": {
    "colab": {
     "base_uri": "https://localhost:8080/"
    },
    "id": "0aLlsMbZjMSm",
    "outputId": "4f1da466-d985-4c01-8041-12b741069aba"
   },
   "outputs": [
    {
     "name": "stderr",
     "output_type": "stream",
     "text": [
      "Training: 100%|██████████| 50/50 [00:13<00:00,  3.79it/s]\n"
     ]
    }
   ],
   "source": [
    "train(dataset20, 13, \"ca_ffdn_20_ksc\")"
   ]
  },
  {
   "cell_type": "code",
   "execution_count": null,
   "id": "rxtDKqFLmxvK",
   "metadata": {
    "id": "rxtDKqFLmxvK"
   },
   "outputs": [],
   "source": [
    "reinit_wandb()"
   ]
  },
  {
   "cell_type": "code",
   "execution_count": 24,
   "id": "bejYgTEbjMVd",
   "metadata": {
    "colab": {
     "base_uri": "https://localhost:8080/"
    },
    "id": "bejYgTEbjMVd",
    "outputId": "e8bc1770-370e-48a8-d829-0ed6ca7916a9"
   },
   "outputs": [
    {
     "name": "stderr",
     "output_type": "stream",
     "text": [
      "Training: 100%|██████████| 50/50 [00:25<00:00,  1.92it/s]\n"
     ]
    }
   ],
   "source": [
    "train(dataset10, 13, \"ca_ffdn_10_ksc\")"
   ]
  }
 ],
 "metadata": {
  "accelerator": "GPU",
  "colab": {
   "gpuType": "T4",
   "include_colab_link": true,
   "provenance": []
  },
  "kernelspec": {
   "display_name": "Python 3",
   "name": "python3"
  },
  "language_info": {
   "codemirror_mode": {
    "name": "ipython",
    "version": 2
   },
   "file_extension": ".py",
   "mimetype": "text/x-python",
   "name": "python",
   "nbconvert_exporter": "python",
   "pygments_lexer": "ipython2",
   "version": "2.7.6"
  }
 },
 "nbformat": 4,
 "nbformat_minor": 5
}
