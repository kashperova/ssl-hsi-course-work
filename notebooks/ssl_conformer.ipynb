{
 "cells": [
  {
   "cell_type": "markdown",
   "id": "7fb27b941602401d91542211134fc71a",
   "metadata": {
    "colab_type": "text",
    "id": "view-in-github"
   },
   "source": [
    "<a href=\"https://colab.research.google.com/github/kashperova/ssl-hsi-course-work/blob/main/notebooks/ssl_conformer.ipynb\" target=\"_parent\"><img src=\"https://colab.research.google.com/assets/colab-badge.svg\" alt=\"Open In Colab\"/></a>"
   ]
  },
  {
   "cell_type": "code",
   "execution_count": null,
   "id": "4df4b339af110891",
   "metadata": {
    "colab": {
     "base_uri": "https://localhost:8080/"
    },
    "id": "4df4b339af110891",
    "outputId": "37322379-94a7-49a8-c550-48bb1317891e"
   },
   "outputs": [
    {
     "name": "stdout",
     "output_type": "stream",
     "text": [
      "Mounted at /content/gdrive\n"
     ]
    }
   ],
   "source": [
    "from google.colab import drive\n",
    "\n",
    "drive.mount(\"/content/gdrive\")"
   ]
  },
  {
   "cell_type": "code",
   "execution_count": 1,
   "id": "584d43e5d4a0ae40",
   "metadata": {
    "colab": {
     "base_uri": "https://localhost:8080/"
    },
    "id": "584d43e5d4a0ae40",
    "outputId": "4014bd81-980d-40d6-fd09-6328db4a6486"
   },
   "outputs": [
    {
     "name": "stdout",
     "output_type": "stream",
     "text": [
      "Cloning into 'ssl-hsi-course-work'...\n",
      "remote: Enumerating objects: 87, done.\u001b[K\n",
      "remote: Counting objects: 100% (36/36), done.\u001b[K\n",
      "remote: Compressing objects: 100% (30/30), done.\u001b[K\n",
      "remote: Total 87 (delta 13), reused 14 (delta 6), pack-reused 51 (from 3)\u001b[K\n",
      "Receiving objects: 100% (87/87), 93.21 MiB | 15.59 MiB/s, done.\n",
      "Resolving deltas: 100% (14/14), done.\n"
     ]
    }
   ],
   "source": [
    "!git clone https://@github.com/kashperova/ssl-hsi-course-work.git"
   ]
  },
  {
   "cell_type": "code",
   "execution_count": 1,
   "id": "c4cabcd2d1a5ad29",
   "metadata": {
    "colab": {
     "base_uri": "https://localhost:8080/"
    },
    "id": "c4cabcd2d1a5ad29",
    "outputId": "c8f63040-8943-411e-f4c8-e3fbbf477f04"
   },
   "outputs": [
    {
     "name": "stdout",
     "output_type": "stream",
     "text": [
      "/content/ssl-hsi-course-work/src\n"
     ]
    }
   ],
   "source": [
    "%cd ssl-hsi-course-work/src"
   ]
  },
  {
   "cell_type": "code",
   "execution_count": 3,
   "id": "ktr9AAeHTSAc",
   "metadata": {
    "colab": {
     "base_uri": "https://localhost:8080/"
    },
    "id": "ktr9AAeHTSAc",
    "outputId": "2313043b-f5ce-4d80-ac08-e8b055a604e2"
   },
   "outputs": [
    {
     "name": "stdout",
     "output_type": "stream",
     "text": [
      "downloading uv 0.7.9 x86_64-unknown-linux-gnu\n",
      "no checksums to verify\n",
      "installing to /usr/local/bin\n",
      "  uv\n",
      "  uvx\n",
      "everything's installed!\n"
     ]
    }
   ],
   "source": [
    "!curl -LsSf https://astral.sh/uv/install.sh | sh"
   ]
  },
  {
   "cell_type": "code",
   "execution_count": null,
   "id": "lb9NQ6cfTVl-",
   "metadata": {
    "id": "lb9NQ6cfTVl-"
   },
   "outputs": [],
   "source": [
    "!uv pip install --system scikit-learn==1.6.0\n",
    "!uv pip install --system seaborn==0.13.0\n",
    "!uv pip install --system matplotlib==3.10.1\n",
    "!uv pip install --system plotly==6.0.0\n",
    "!uv pip install --system torchmetrics==1.7.2\n",
    "!uv pip install --system scipy==1.15.2"
   ]
  },
  {
   "cell_type": "code",
   "execution_count": 2,
   "id": "initial_id",
   "metadata": {
    "ExecuteTime": {
     "end_time": "2025-05-29T18:14:08.677786Z",
     "start_time": "2025-05-29T18:14:02.839560Z"
    },
    "collapsed": true,
    "id": "initial_id"
   },
   "outputs": [],
   "source": [
    "from models.conformer.model import ModModel\n",
    "from modules.trainers.noisy_student import NoisyStudentTrainer\n",
    "from modules.datasets.hsi import HyperspectralDataset\n",
    "from config.train_config import BaseTrainConfig\n",
    "from utils.seed import set_seed\n",
    "from utils.metrics import Metrics, Task\n",
    "from utils.data import load_hsi_dataset, get_stratified_subset\n",
    "\n",
    "import os\n",
    "import wandb\n",
    "import torch.optim as optim\n",
    "from torch.utils.data import Subset, Dataset\n",
    "from sklearn.model_selection import train_test_split\n",
    "\n",
    "from torch import nn"
   ]
  },
  {
   "cell_type": "code",
   "execution_count": 6,
   "id": "491f15b4e0199a7c",
   "metadata": {
    "ExecuteTime": {
     "end_time": "2025-05-29T18:14:15.252621Z",
     "start_time": "2025-05-29T18:14:15.245966Z"
    },
    "id": "491f15b4e0199a7c"
   },
   "outputs": [],
   "source": [
    "os.environ[\"WANDB_API_KEY\"] = \"\""
   ]
  },
  {
   "cell_type": "code",
   "execution_count": 3,
   "id": "244fa4ef3090874d",
   "metadata": {
    "ExecuteTime": {
     "end_time": "2025-05-29T18:17:02.694952Z",
     "start_time": "2025-05-29T18:17:00.304549Z"
    },
    "colab": {
     "base_uri": "https://localhost:8080/",
     "height": 324
    },
    "id": "244fa4ef3090874d",
    "outputId": "df9fcbef-0853-45e9-ef95-874b443174a1"
   },
   "outputs": [
    {
     "data": {
      "application/javascript": [
       "\n",
       "        window._wandbApiKey = new Promise((resolve, reject) => {\n",
       "            function loadScript(url) {\n",
       "            return new Promise(function(resolve, reject) {\n",
       "                let newScript = document.createElement(\"script\");\n",
       "                newScript.onerror = reject;\n",
       "                newScript.onload = resolve;\n",
       "                document.body.appendChild(newScript);\n",
       "                newScript.src = url;\n",
       "            });\n",
       "            }\n",
       "            loadScript(\"https://cdn.jsdelivr.net/npm/postmate/build/postmate.min.js\").then(() => {\n",
       "            const iframe = document.createElement('iframe')\n",
       "            iframe.style.cssText = \"width:0;height:0;border:none\"\n",
       "            document.body.appendChild(iframe)\n",
       "            const handshake = new Postmate({\n",
       "                container: iframe,\n",
       "                url: 'https://wandb.ai/authorize'\n",
       "            });\n",
       "            const timeout = setTimeout(() => reject(\"Couldn't auto authenticate\"), 5000)\n",
       "            handshake.then(function(child) {\n",
       "                child.on('authorize', data => {\n",
       "                    clearTimeout(timeout)\n",
       "                    resolve(data)\n",
       "                });\n",
       "            });\n",
       "            })\n",
       "        });\n",
       "    "
      ],
      "text/plain": [
       "<IPython.core.display.Javascript object>"
      ]
     },
     "metadata": {},
     "output_type": "display_data"
    },
    {
     "name": "stderr",
     "output_type": "stream",
     "text": [
      "\u001b[34m\u001b[1mwandb\u001b[0m: Logging into wandb.ai. (Learn how to deploy a W&B server locally: https://wandb.me/wandb-server)\n",
      "\u001b[34m\u001b[1mwandb\u001b[0m: You can find your API key in your browser here: https://wandb.ai/authorize?ref=models\n",
      "wandb: Paste an API key from your profile and hit enter:"
     ]
    },
    {
     "name": "stdout",
     "output_type": "stream",
     "text": [
      " ··········\n"
     ]
    },
    {
     "name": "stderr",
     "output_type": "stream",
     "text": [
      "\u001b[34m\u001b[1mwandb\u001b[0m: \u001b[33mWARNING\u001b[0m If you're specifying your api key in code, ensure this code is not shared publicly.\n",
      "\u001b[34m\u001b[1mwandb\u001b[0m: \u001b[33mWARNING\u001b[0m Consider setting the WANDB_API_KEY environment variable, or running `wandb login` from the command line.\n",
      "\u001b[34m\u001b[1mwandb\u001b[0m: No netrc file found, creating one.\n",
      "\u001b[34m\u001b[1mwandb\u001b[0m: Appending key for api.wandb.ai to your netrc file: /root/.netrc\n",
      "\u001b[34m\u001b[1mwandb\u001b[0m: Currently logged in as: \u001b[33mskashperova\u001b[0m (\u001b[33mkashperova-test\u001b[0m) to \u001b[32mhttps://api.wandb.ai\u001b[0m. Use \u001b[1m`wandb login --relogin`\u001b[0m to force relogin\n"
     ]
    },
    {
     "data": {
      "text/html": [
       "Tracking run with wandb version 0.19.11"
      ],
      "text/plain": [
       "<IPython.core.display.HTML object>"
      ]
     },
     "metadata": {},
     "output_type": "display_data"
    },
    {
     "data": {
      "text/html": [
       "Run data is saved locally in <code>/content/ssl-hsi-course-work/src/wandb/run-20250601_072832-jrz9ag19</code>"
      ],
      "text/plain": [
       "<IPython.core.display.HTML object>"
      ]
     },
     "metadata": {},
     "output_type": "display_data"
    },
    {
     "data": {
      "text/html": [
       "Syncing run <strong><a href='https://wandb.ai/kashperova-test/ssl-hsi-course-work-src/runs/jrz9ag19' target=\"_blank\">worldly-donkey-36</a></strong> to <a href='https://wandb.ai/kashperova-test/ssl-hsi-course-work-src' target=\"_blank\">Weights & Biases</a> (<a href='https://wandb.me/developer-guide' target=\"_blank\">docs</a>)<br>"
      ],
      "text/plain": [
       "<IPython.core.display.HTML object>"
      ]
     },
     "metadata": {},
     "output_type": "display_data"
    },
    {
     "data": {
      "text/html": [
       " View project at <a href='https://wandb.ai/kashperova-test/ssl-hsi-course-work-src' target=\"_blank\">https://wandb.ai/kashperova-test/ssl-hsi-course-work-src</a>"
      ],
      "text/plain": [
       "<IPython.core.display.HTML object>"
      ]
     },
     "metadata": {},
     "output_type": "display_data"
    },
    {
     "data": {
      "text/html": [
       " View run at <a href='https://wandb.ai/kashperova-test/ssl-hsi-course-work-src/runs/jrz9ag19' target=\"_blank\">https://wandb.ai/kashperova-test/ssl-hsi-course-work-src/runs/jrz9ag19</a>"
      ],
      "text/plain": [
       "<IPython.core.display.HTML object>"
      ]
     },
     "metadata": {},
     "output_type": "display_data"
    },
    {
     "data": {
      "text/html": [
       "<button onClick=\"this.nextSibling.style.display='block';this.style.display='none';\">Display W&B run</button><iframe src='https://wandb.ai/kashperova-test/ssl-hsi-course-work-src/runs/jrz9ag19?jupyter=true' style='border:none;width:100%;height:420px;display:none;'></iframe>"
      ],
      "text/plain": [
       "<wandb.sdk.wandb_run.Run at 0x7aa70b3a83d0>"
      ]
     },
     "execution_count": 3,
     "metadata": {},
     "output_type": "execute_result"
    }
   ],
   "source": [
    "wandb.init()"
   ]
  },
  {
   "cell_type": "code",
   "execution_count": 4,
   "id": "ceba28c87dca0f4d",
   "metadata": {
    "ExecuteTime": {
     "end_time": "2025-05-29T18:14:18.449186Z",
     "start_time": "2025-05-29T18:14:18.433907Z"
    },
    "colab": {
     "base_uri": "https://localhost:8080/"
    },
    "id": "ceba28c87dca0f4d",
    "outputId": "62ee14b0-a6a3-4589-f386-cf313a28d5f4"
   },
   "outputs": [
    {
     "name": "stdout",
     "output_type": "stream",
     "text": [
      "Random seed set to 42\n"
     ]
    }
   ],
   "source": [
    "set_seed(42)"
   ]
  },
  {
   "cell_type": "code",
   "execution_count": 5,
   "id": "18d962906ec11803",
   "metadata": {
    "ExecuteTime": {
     "end_time": "2025-05-29T18:14:20.982306Z",
     "start_time": "2025-05-29T18:14:20.978869Z"
    },
    "id": "18d962906ec11803"
   },
   "outputs": [],
   "source": [
    "class TeacherConfig(BaseTrainConfig):\n",
    "    epochs: int = 50\n",
    "    train_batch_size: int = 64\n",
    "    eval_batch_size: int = 64\n",
    "    train_test_split: float = 0.7\n",
    "\n",
    "\n",
    "class StudentConfig(BaseTrainConfig):\n",
    "    epochs: int = 50\n",
    "    train_batch_size: int = 64\n",
    "    eval_batch_size: int = 64\n",
    "    train_test_split: float = 0.7"
   ]
  },
  {
   "cell_type": "code",
   "execution_count": 7,
   "id": "1ea953116ba3b257",
   "metadata": {
    "ExecuteTime": {
     "end_time": "2025-05-29T18:14:21.956216Z",
     "start_time": "2025-05-29T18:14:21.806840Z"
    },
    "id": "1ea953116ba3b257"
   },
   "outputs": [],
   "source": [
    "def load_data(dataset_name: str, test_size: float = 0.8):\n",
    "    patches, labels = load_hsi_dataset(\n",
    "        dataset_name=dataset_name, root_dir=\"../data\", pca_components=30, patch_size=15\n",
    "    )\n",
    "    dataset = HyperspectralDataset(patches, labels)\n",
    "    targets = [dataset[i][1] for i in range(len(dataset))]\n",
    "    train_indices, val_indices = train_test_split(\n",
    "        range(len(dataset)),\n",
    "        test_size=test_size,\n",
    "        stratify=targets,\n",
    "    )\n",
    "    labeled_dataset = Subset(dataset, train_indices)\n",
    "    unlabeled = Subset(dataset, val_indices)\n",
    "    unlabeled_dataset = UnlabeledDataset(unlabeled)\n",
    "\n",
    "    return labeled_dataset, unlabeled_dataset"
   ]
  },
  {
   "cell_type": "code",
   "execution_count": 10,
   "id": "b707322e70231e4",
   "metadata": {
    "ExecuteTime": {
     "end_time": "2025-05-29T18:15:08.673205Z",
     "start_time": "2025-05-29T18:15:08.337338Z"
    },
    "id": "b707322e70231e4"
   },
   "outputs": [],
   "source": [
    "def train(labeled, unlabeled, num_classes: int, save_dir: str):\n",
    "    teacher_model = ModModel(in_channels=30, num_classes=num_classes)\n",
    "    student_model = ModModel(in_channels=30, num_classes=num_classes)\n",
    "\n",
    "    teacher_optimizer = optim.Adam(teacher_model.parameters(), lr=1e-4)\n",
    "    student_optimizer = optim.Adam(student_model.parameters(), lr=1e-4)\n",
    "\n",
    "    teacher_lr_scheduler = optim.lr_scheduler.ReduceLROnPlateau(\n",
    "        teacher_optimizer, patience=10, factor=0.05\n",
    "    )\n",
    "    student_lr_scheduler = optim.lr_scheduler.ReduceLROnPlateau(\n",
    "        student_optimizer, patience=10, factor=0.05\n",
    "    )\n",
    "    criterion = nn.CrossEntropyLoss()\n",
    "\n",
    "    ns_trainer = NoisyStudentTrainer(\n",
    "        teacher_model=teacher_model,\n",
    "        student_model=student_model,\n",
    "        loss_fn=criterion,\n",
    "        teacher_optimizer=teacher_optimizer,\n",
    "        student_optimizer=student_optimizer,\n",
    "        labeled_dataset=labeled,\n",
    "        unlabeled_dataset=unlabeled,\n",
    "        teacher_lr_scheduler=teacher_lr_scheduler,\n",
    "        student_lr_scheduler=student_lr_scheduler,\n",
    "        teacher_config=TeacherConfig(),\n",
    "        student_config=StudentConfig(),\n",
    "        metrics=Metrics(\n",
    "            task=Task.MULTICLASS_CLASSIFICATION,\n",
    "            num_classes=num_classes,\n",
    "            average=\"micro\",\n",
    "        ),\n",
    "        # save_dir=save_dir\n",
    "    )\n",
    "    ns_trainer.train_teacher(verbose=False)\n",
    "    ns_trainer.train_student(verbose=False)\n",
    "\n",
    "\n",
    "def reinit_wandb():\n",
    "    wandb.finish(quiet=True)\n",
    "    wandb.init()"
   ]
  },
  {
   "cell_type": "code",
   "execution_count": 45,
   "id": "b22bfd6d8b9290df",
   "metadata": {
    "ExecuteTime": {
     "end_time": "2025-05-29T18:15:58.139081Z",
     "start_time": "2025-05-29T18:15:10.995962Z"
    },
    "colab": {
     "base_uri": "https://localhost:8080/"
    },
    "id": "b22bfd6d8b9290df",
    "outputId": "5f3ad1ba-8961-4048-9a77-ed6776409bc5"
   },
   "outputs": [
    {
     "name": "stderr",
     "output_type": "stream",
     "text": [
      "Training: 100%|██████████| 50/50 [00:56<00:00,  1.13s/it]\n"
     ]
    },
    {
     "name": "stdout",
     "output_type": "stream",
     "text": [
      "Pseudo Label Annotation\n"
     ]
    },
    {
     "name": "stderr",
     "output_type": "stream",
     "text": [
      "Training: 100%|██████████| 50/50 [04:21<00:00,  5.22s/it]\n"
     ]
    }
   ],
   "source": [
    "labeled, unlabeled = load_data(\"IndianPines\")\n",
    "train(labeled, unlabeled, 16, \"conformer_ssl_20_ip\")"
   ]
  },
  {
   "cell_type": "code",
   "execution_count": null,
   "id": "uwGp8Jp6jkcu",
   "metadata": {
    "id": "uwGp8Jp6jkcu"
   },
   "outputs": [],
   "source": [
    "reinit_wandb()"
   ]
  },
  {
   "cell_type": "code",
   "execution_count": 48,
   "id": "adn1tlgVlAh4",
   "metadata": {
    "colab": {
     "base_uri": "https://localhost:8080/"
    },
    "id": "adn1tlgVlAh4",
    "outputId": "e4440273-0217-422b-8f55-f2dca231cc09"
   },
   "outputs": [
    {
     "name": "stderr",
     "output_type": "stream",
     "text": [
      "Training: 100%|██████████| 50/50 [00:29<00:00,  1.67it/s]\n"
     ]
    },
    {
     "name": "stdout",
     "output_type": "stream",
     "text": [
      "Pseudo Label Annotation\n"
     ]
    },
    {
     "name": "stderr",
     "output_type": "stream",
     "text": [
      "Training: 100%|██████████| 50/50 [03:58<00:00,  4.77s/it]\n"
     ]
    }
   ],
   "source": [
    "labeled, unlabeled = load_data(\"IndianPines\", test_size=0.9)\n",
    "train(labeled, unlabeled, 16, \"conformer_ssl_10_ip\")"
   ]
  },
  {
   "cell_type": "code",
   "execution_count": 49,
   "id": "-J3LtbwblBx4",
   "metadata": {
    "id": "-J3LtbwblBx4"
   },
   "outputs": [],
   "source": [
    "reinit_wandb()"
   ]
  },
  {
   "cell_type": "code",
   "execution_count": 50,
   "id": "8f86b3be6df7461c",
   "metadata": {
    "colab": {
     "base_uri": "https://localhost:8080/"
    },
    "id": "8f86b3be6df7461c",
    "outputId": "70f097c8-3a3e-4ba2-8df8-293cd5c56721"
   },
   "outputs": [
    {
     "metadata": {
      "tags": null
     },
     "name": "stderr",
     "output_type": "stream",
     "text": [
      "Training: 100%|██████████| 50/50 [03:51<00:00,  4.64s/it]\n"
     ]
    },
    {
     "metadata": {
      "tags": null
     },
     "name": "stdout",
     "output_type": "stream",
     "text": [
      "Pseudo Label Annotation\n"
     ]
    },
    {
     "name": "stderr",
     "output_type": "stream",
     "text": [
      "Training: 100%|██████████| 50/50 [18:55<00:00, 22.70s/it]\n"
     ]
    }
   ],
   "source": [
    "labeled, unlabeled = load_data(\"PaviaUniversity\")\n",
    "train(labeled, unlabeled, 9, \"conformer_ssl_20_pu\")"
   ]
  },
  {
   "cell_type": "code",
   "execution_count": null,
   "id": "QI2VexxwkJAT",
   "metadata": {
    "id": "QI2VexxwkJAT"
   },
   "outputs": [],
   "source": [
    "reinit_wandb()"
   ]
  },
  {
   "cell_type": "code",
   "execution_count": 11,
   "id": "5kjkfmIMmxbH",
   "metadata": {
    "colab": {
     "base_uri": "https://localhost:8080/"
    },
    "id": "5kjkfmIMmxbH",
    "outputId": "2677c182-22ab-4002-bc32-eefbcd0a8417"
   },
   "outputs": [
    {
     "metadata": {
      "tags": null
     },
     "name": "stderr",
     "output_type": "stream",
     "text": [
      "Training: 100%|██████████| 50/50 [02:02<00:00,  2.45s/it]\n"
     ]
    },
    {
     "metadata": {
      "tags": null
     },
     "name": "stdout",
     "output_type": "stream",
     "text": [
      "Pseudo Label Annotation\n"
     ]
    },
    {
     "name": "stderr",
     "output_type": "stream",
     "text": [
      "Training: 100%|██████████| 50/50 [19:39<00:00, 23.59s/it]\n"
     ]
    }
   ],
   "source": [
    "labeled, unlabeled = load_data(\"PaviaUniversity\", test_size=0.9)\n",
    "train(labeled, unlabeled, 9, \"conformer_ssl_10_pu\")"
   ]
  },
  {
   "cell_type": "code",
   "execution_count": null,
   "id": "EiBDdwRIm05O",
   "metadata": {
    "id": "EiBDdwRIm05O"
   },
   "outputs": [],
   "source": [
    "reinit_wandb()"
   ]
  },
  {
   "cell_type": "code",
   "execution_count": 13,
   "id": "ZUHtWiRHYUOG",
   "metadata": {
    "colab": {
     "base_uri": "https://localhost:8080/"
    },
    "id": "ZUHtWiRHYUOG",
    "outputId": "6fdb8ca8-8205-4149-d02b-9f6875b70240"
   },
   "outputs": [
    {
     "name": "stderr",
     "output_type": "stream",
     "text": [
      "Training: 100%|██████████| 50/50 [00:37<00:00,  1.32it/s]\n"
     ]
    },
    {
     "name": "stdout",
     "output_type": "stream",
     "text": [
      "Pseudo Label Annotation\n"
     ]
    },
    {
     "name": "stderr",
     "output_type": "stream",
     "text": [
      "Training: 100%|██████████| 50/50 [01:54<00:00,  2.29s/it]\n"
     ]
    }
   ],
   "source": [
    "labeled, unlabeled = load_data(\"KSC\")\n",
    "train(labeled, unlabeled, 13, \"conformer_ssl_20_ksc\")"
   ]
  },
  {
   "cell_type": "code",
   "execution_count": null,
   "id": "FnliD4EVm1g4",
   "metadata": {
    "id": "FnliD4EVm1g4"
   },
   "outputs": [],
   "source": [
    "reinit_wandb()"
   ]
  },
  {
   "cell_type": "code",
   "execution_count": null,
   "id": "k-NzM5sUm2ht",
   "metadata": {
    "id": "k-NzM5sUm2ht"
   },
   "outputs": [],
   "source": [
    "labeled, unlabeled = load_data(\"KSC\", test_size=0.9)\n",
    "train(labeled, unlabeled, 13, \"conformer_ssl_10_ksc\")"
   ]
  }
 ],
 "metadata": {
  "accelerator": "GPU",
  "colab": {
   "gpuType": "T4",
   "include_colab_link": true,
   "provenance": []
  },
  "kernelspec": {
   "display_name": "Python 3",
   "name": "python3"
  },
  "language_info": {
   "codemirror_mode": {
    "name": "ipython",
    "version": 2
   },
   "file_extension": ".py",
   "mimetype": "text/x-python",
   "name": "python",
   "nbconvert_exporter": "python",
   "pygments_lexer": "ipython2",
   "version": "2.7.6"
  }
 },
 "nbformat": 4,
 "nbformat_minor": 5
}
