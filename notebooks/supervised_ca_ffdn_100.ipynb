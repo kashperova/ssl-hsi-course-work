{
  "cells": [
    {
      "cell_type": "markdown",
      "metadata": {
        "id": "view-in-github",
        "colab_type": "text"
      },
      "source": [
        "<a href=\"https://colab.research.google.com/github/kashperova/ssl-hsi-course-work/blob/main/notebooks/supervised_ca_ffdn_100.ipynb\" target=\"_parent\"><img src=\"https://colab.research.google.com/assets/colab-badge.svg\" alt=\"Open In Colab\"/></a>"
      ]
    },
    {
      "metadata": {
        "colab": {
          "base_uri": "https://localhost:8080/"
        },
        "id": "4df4b339af110891",
        "outputId": "37322379-94a7-49a8-c550-48bb1317891e"
      },
      "cell_type": "code",
      "outputs": [
        {
          "output_type": "stream",
          "name": "stdout",
          "text": [
            "Mounted at /content/gdrive\n"
          ]
        }
      ],
      "execution_count": 1,
      "source": [
        "from google.colab import drive\n",
        "\n",
        "drive.mount('/content/gdrive')"
      ],
      "id": "4df4b339af110891"
    },
    {
      "metadata": {
        "colab": {
          "base_uri": "https://localhost:8080/"
        },
        "id": "584d43e5d4a0ae40",
        "outputId": "f0a9e43f-383a-4db4-b096-eaf5b45a4006"
      },
      "cell_type": "code",
      "outputs": [
        {
          "output_type": "stream",
          "name": "stdout",
          "text": [
            "Cloning into 'ssl-hsi-course-work'...\n",
            "remote: Enumerating objects: 43, done.\u001b[K\n",
            "remote: Counting objects: 100% (43/43), done.\u001b[K\n",
            "remote: Compressing objects: 100% (38/38), done.\u001b[K\n",
            "remote: Total 43 (delta 1), reused 43 (delta 1), pack-reused 0 (from 0)\u001b[K\n",
            "Receiving objects: 100% (43/43), 38.97 MiB | 17.71 MiB/s, done.\n",
            "Resolving deltas: 100% (1/1), done.\n"
          ]
        }
      ],
      "execution_count": 3,
      "source": [
        "!git clone https://@github.com/kashperova/ssl-hsi-course-work.git"
      ],
      "id": "584d43e5d4a0ae40"
    },
    {
      "metadata": {
        "colab": {
          "base_uri": "https://localhost:8080/"
        },
        "id": "c4cabcd2d1a5ad29",
        "outputId": "418d07f0-164f-4381-afa0-14f11f320b70"
      },
      "cell_type": "code",
      "outputs": [
        {
          "output_type": "stream",
          "name": "stdout",
          "text": [
            "/content/ssl-hsi-course-work/src\n"
          ]
        }
      ],
      "execution_count": 1,
      "source": [
        "%cd ssl-hsi-course-work/src"
      ],
      "id": "c4cabcd2d1a5ad29"
    },
    {
      "cell_type": "code",
      "source": [
        "!curl -LsSf https://astral.sh/uv/install.sh | sh"
      ],
      "metadata": {
        "colab": {
          "base_uri": "https://localhost:8080/"
        },
        "id": "ktr9AAeHTSAc",
        "outputId": "d875f0d2-1827-4a1e-a122-c90ff7fb6ae4"
      },
      "id": "ktr9AAeHTSAc",
      "execution_count": 6,
      "outputs": [
        {
          "output_type": "stream",
          "name": "stdout",
          "text": [
            "downloading uv 0.7.8 x86_64-unknown-linux-gnu\n",
            "no checksums to verify\n",
            "installing to /usr/local/bin\n",
            "  uv\n",
            "  uvx\n",
            "everything's installed!\n"
          ]
        }
      ]
    },
    {
      "cell_type": "code",
      "source": [
        "!uv pip install --system scikit-learn==1.6.0\n",
        "!uv pip install --system seaborn==0.13.0\n",
        "!uv pip install --system matplotlib==3.10.1\n",
        "!uv pip install --system plotly==6.0.0\n",
        "!uv pip install --system torchmetrics==1.7.2\n",
        "!uv pip install --system scipy==1.15.2"
      ],
      "metadata": {
        "id": "lb9NQ6cfTVl-"
      },
      "id": "lb9NQ6cfTVl-",
      "execution_count": null,
      "outputs": []
    },
    {
      "metadata": {
        "collapsed": true,
        "ExecuteTime": {
          "end_time": "2025-05-29T18:14:08.677786Z",
          "start_time": "2025-05-29T18:14:02.839560Z"
        },
        "id": "initial_id"
      },
      "cell_type": "code",
      "outputs": [],
      "execution_count": 2,
      "source": [
        "from models.ca_ffdn import CA_FFDN\n",
        "from modules.trainers.supervised import BaseSupervisedTrainer\n",
        "from modules.datasets.hsi import HyperspectralDataset\n",
        "from config.train_config import BaseTrainConfig\n",
        "from utils.seed import set_seed\n",
        "from utils.metrics import Metrics, Task\n",
        "from utils.data import load_hsi_dataset\n",
        "\n",
        "import os\n",
        "import wandb\n",
        "import torch.optim as optim\n",
        "\n",
        "from torch import nn"
      ],
      "id": "initial_id"
    },
    {
      "metadata": {
        "ExecuteTime": {
          "end_time": "2025-05-29T18:14:15.252621Z",
          "start_time": "2025-05-29T18:14:15.245966Z"
        },
        "id": "491f15b4e0199a7c"
      },
      "cell_type": "code",
      "source": [
        "os.environ[\"WANDB_API_KEY\"] = \"\""
      ],
      "id": "491f15b4e0199a7c",
      "outputs": [],
      "execution_count": 9
    },
    {
      "metadata": {
        "ExecuteTime": {
          "end_time": "2025-05-29T18:17:02.694952Z",
          "start_time": "2025-05-29T18:17:00.304549Z"
        },
        "colab": {
          "base_uri": "https://localhost:8080/",
          "height": 162
        },
        "id": "244fa4ef3090874d",
        "outputId": "a72865bb-c83e-4657-b570-0c65b4dd2707"
      },
      "cell_type": "code",
      "source": [
        "wandb.init()"
      ],
      "id": "244fa4ef3090874d",
      "outputs": [
        {
          "output_type": "stream",
          "name": "stderr",
          "text": [
            "\u001b[34m\u001b[1mwandb\u001b[0m: Currently logged in as: \u001b[33mskashperova\u001b[0m (\u001b[33mkashperova-test\u001b[0m) to \u001b[32mhttps://api.wandb.ai\u001b[0m. Use \u001b[1m`wandb login --relogin`\u001b[0m to force relogin\n"
          ]
        },
        {
          "output_type": "display_data",
          "data": {
            "text/plain": [
              "<IPython.core.display.HTML object>"
            ],
            "text/html": [
              "Tracking run with wandb version 0.19.11"
            ]
          },
          "metadata": {}
        },
        {
          "output_type": "display_data",
          "data": {
            "text/plain": [
              "<IPython.core.display.HTML object>"
            ],
            "text/html": [
              "Run data is saved locally in <code>/content/ssl-hsi-course-work/src/wandb/run-20250529_192041-w5nltidv</code>"
            ]
          },
          "metadata": {}
        },
        {
          "output_type": "display_data",
          "data": {
            "text/plain": [
              "<IPython.core.display.HTML object>"
            ],
            "text/html": [
              "Syncing run <strong><a href='https://wandb.ai/kashperova-test/ssl-hsi-course-work-src/runs/w5nltidv' target=\"_blank\">cosmic-valley-6</a></strong> to <a href='https://wandb.ai/kashperova-test/ssl-hsi-course-work-src' target=\"_blank\">Weights & Biases</a> (<a href='https://wandb.me/developer-guide' target=\"_blank\">docs</a>)<br>"
            ]
          },
          "metadata": {}
        },
        {
          "output_type": "display_data",
          "data": {
            "text/plain": [
              "<IPython.core.display.HTML object>"
            ],
            "text/html": [
              " View project at <a href='https://wandb.ai/kashperova-test/ssl-hsi-course-work-src' target=\"_blank\">https://wandb.ai/kashperova-test/ssl-hsi-course-work-src</a>"
            ]
          },
          "metadata": {}
        },
        {
          "output_type": "display_data",
          "data": {
            "text/plain": [
              "<IPython.core.display.HTML object>"
            ],
            "text/html": [
              " View run at <a href='https://wandb.ai/kashperova-test/ssl-hsi-course-work-src/runs/w5nltidv' target=\"_blank\">https://wandb.ai/kashperova-test/ssl-hsi-course-work-src/runs/w5nltidv</a>"
            ]
          },
          "metadata": {}
        },
        {
          "output_type": "execute_result",
          "data": {
            "text/html": [
              "<button onClick=\"this.nextSibling.style.display='block';this.style.display='none';\">Display W&B run</button><iframe src='https://wandb.ai/kashperova-test/ssl-hsi-course-work-src/runs/w5nltidv?jupyter=true' style='border:none;width:100%;height:420px;display:none;'></iframe>"
            ],
            "text/plain": [
              "<wandb.sdk.wandb_run.Run at 0x7977a9232350>"
            ]
          },
          "metadata": {},
          "execution_count": 3
        }
      ],
      "execution_count": 3
    },
    {
      "cell_type": "code",
      "id": "ceba28c87dca0f4d",
      "metadata": {
        "ExecuteTime": {
          "end_time": "2025-05-29T18:14:18.449186Z",
          "start_time": "2025-05-29T18:14:18.433907Z"
        },
        "colab": {
          "base_uri": "https://localhost:8080/"
        },
        "id": "ceba28c87dca0f4d",
        "outputId": "3d1799d4-7aaa-4b0e-9087-f74d86a83b9c"
      },
      "source": [
        "set_seed(42)"
      ],
      "outputs": [
        {
          "output_type": "stream",
          "name": "stdout",
          "text": [
            "Random seed set to 42\n"
          ]
        }
      ],
      "execution_count": 4
    },
    {
      "metadata": {
        "ExecuteTime": {
          "end_time": "2025-05-29T18:14:20.982306Z",
          "start_time": "2025-05-29T18:14:20.978869Z"
        },
        "id": "18d962906ec11803"
      },
      "cell_type": "code",
      "source": [
        "class TrainConfig(BaseTrainConfig):\n",
        "    epochs: int = 50\n",
        "    train_batch_size: int = 64\n",
        "    eval_batch_size: int = 64\n",
        "    train_test_split: float = 0.7"
      ],
      "id": "18d962906ec11803",
      "outputs": [],
      "execution_count": 5
    },
    {
      "cell_type": "code",
      "id": "1ea953116ba3b257",
      "metadata": {
        "ExecuteTime": {
          "end_time": "2025-05-29T18:14:21.956216Z",
          "start_time": "2025-05-29T18:14:21.806840Z"
        },
        "id": "1ea953116ba3b257"
      },
      "source": [
        "patches, labels = load_hsi_dataset(\n",
        "    dataset_name=\"IndianPines\", root_dir=\"../data\", pca_components=30, patch_size=15\n",
        ")"
      ],
      "outputs": [],
      "execution_count": 7
    },
    {
      "cell_type": "code",
      "id": "cf518467b4a32fb6",
      "metadata": {
        "ExecuteTime": {
          "end_time": "2025-05-29T18:14:23.006172Z",
          "start_time": "2025-05-29T18:14:23.001942Z"
        },
        "id": "cf518467b4a32fb6"
      },
      "source": [
        "dataset = HyperspectralDataset(patches, labels)"
      ],
      "outputs": [],
      "execution_count": 8
    },
    {
      "metadata": {
        "ExecuteTime": {
          "end_time": "2025-05-29T18:15:08.673205Z",
          "start_time": "2025-05-29T18:15:08.337338Z"
        },
        "id": "b707322e70231e4"
      },
      "cell_type": "code",
      "source": [
        "model = CA_FFDN(in_channels=30, num_classes=16)\n",
        "optimizer = optim.Adam(model.parameters(), lr=1e-4)\n",
        "scheduler = optim.lr_scheduler.ReduceLROnPlateau(optimizer, patience=10, factor=0.5)\n",
        "criterion = nn.CrossEntropyLoss()\n",
        "\n",
        "trainer = BaseSupervisedTrainer(\n",
        "    model=model,\n",
        "    optimizer=optimizer,\n",
        "    lr_scheduler=scheduler,\n",
        "    dataset=dataset,\n",
        "    config=TrainConfig(),\n",
        "    metrics=Metrics(task=Task.MULTICLASS_CLASSIFICATION, num_classes=16, average=\"micro\"),\n",
        "    loss_fn=criterion,\n",
        "    save_dir=\"/content/gdrive/MyDrive/[kpi] ssl course work\",\n",
        "    save_name=\"ca_ffdn_100_ip\"\n",
        ")"
      ],
      "id": "b707322e70231e4",
      "outputs": [],
      "execution_count": 9
    },
    {
      "metadata": {
        "ExecuteTime": {
          "end_time": "2025-05-29T18:15:58.139081Z",
          "start_time": "2025-05-29T18:15:10.995962Z"
        },
        "id": "b22bfd6d8b9290df"
      },
      "cell_type": "code",
      "source": [
        "trainer.train(verbose=False)"
      ],
      "id": "b22bfd6d8b9290df",
      "outputs": [],
      "execution_count": null
    },
    {
      "metadata": {
        "id": "8f86b3be6df7461c"
      },
      "cell_type": "code",
      "outputs": [],
      "execution_count": 5,
      "source": [
        "patches, labels = load_hsi_dataset(\n",
        "    dataset_name=\"PaviaUniversity\", root_dir=\"../data\", pca_components=30, patch_size=15\n",
        ")\n",
        "dataset = HyperspectralDataset(patches, labels)"
      ],
      "id": "8f86b3be6df7461c"
    },
    {
      "cell_type": "code",
      "source": [
        "model = CA_FFDN(in_channels=30, num_classes=9)\n",
        "optimizer = optim.Adam(model.parameters(), lr=1e-4)\n",
        "scheduler = optim.lr_scheduler.ReduceLROnPlateau(optimizer, patience=10, factor=0.5)\n",
        "criterion = nn.CrossEntropyLoss()\n",
        "\n",
        "trainer = BaseSupervisedTrainer(\n",
        "    model=model,\n",
        "    optimizer=optimizer,\n",
        "    lr_scheduler=scheduler,\n",
        "    dataset=dataset,\n",
        "    config=TrainConfig(),\n",
        "    metrics=Metrics(task=Task.MULTICLASS_CLASSIFICATION, num_classes=9, average=\"micro\"),\n",
        "    loss_fn=criterion,\n",
        "    save_dir=\"/content/gdrive/MyDrive/[kpi] ssl course work\",\n",
        "    save_name=\"ca_ffdn_100_pu\"\n",
        ")"
      ],
      "metadata": {
        "id": "ZUHtWiRHYUOG"
      },
      "id": "ZUHtWiRHYUOG",
      "execution_count": 6,
      "outputs": []
    },
    {
      "cell_type": "code",
      "source": [
        "trainer.train(verbose=False)"
      ],
      "metadata": {
        "id": "V4BoBOe9Y0ay"
      },
      "id": "V4BoBOe9Y0ay",
      "execution_count": null,
      "outputs": []
    },
    {
      "cell_type": "code",
      "source": [
        "patches, labels = load_hsi_dataset(\n",
        "    dataset_name=\"KSC\", root_dir=\"../data\", pca_components=30, patch_size=15\n",
        ")\n",
        "dataset = HyperspectralDataset(patches, labels)"
      ],
      "metadata": {
        "id": "JiaSrN0Zd5mx"
      },
      "id": "JiaSrN0Zd5mx",
      "execution_count": 6,
      "outputs": []
    },
    {
      "cell_type": "code",
      "source": [
        "model = CA_FFDN(in_channels=30, num_classes=13)\n",
        "optimizer = optim.Adam(model.parameters(), lr=1e-4)\n",
        "scheduler = optim.lr_scheduler.ReduceLROnPlateau(optimizer, patience=10, factor=0.5)\n",
        "criterion = nn.CrossEntropyLoss()\n",
        "\n",
        "trainer = BaseSupervisedTrainer(\n",
        "    model=model,\n",
        "    optimizer=optimizer,\n",
        "    lr_scheduler=scheduler,\n",
        "    dataset=dataset,\n",
        "    config=TrainConfig(),\n",
        "    metrics=Metrics(task=Task.MULTICLASS_CLASSIFICATION, num_classes=13, average=\"micro\"),\n",
        "    loss_fn=criterion,\n",
        "    save_dir=\"/content/gdrive/MyDrive/[kpi] ssl course work\",\n",
        "    save_name=\"ca_ffdn_100_ksc\"\n",
        ")"
      ],
      "metadata": {
        "id": "OCf1IPMleUC6"
      },
      "id": "OCf1IPMleUC6",
      "execution_count": 7,
      "outputs": []
    },
    {
      "cell_type": "code",
      "source": [
        "trainer.train(verbose=False)"
      ],
      "metadata": {
        "id": "CSr_lfBCefX8"
      },
      "id": "CSr_lfBCefX8",
      "execution_count": null,
      "outputs": []
    }
  ],
  "metadata": {
    "kernelspec": {
      "display_name": "Python 3",
      "name": "python3"
    },
    "language_info": {
      "codemirror_mode": {
        "name": "ipython",
        "version": 2
      },
      "file_extension": ".py",
      "mimetype": "text/x-python",
      "name": "python",
      "nbconvert_exporter": "python",
      "pygments_lexer": "ipython2",
      "version": "2.7.6"
    },
    "colab": {
      "provenance": [],
      "gpuType": "T4",
      "include_colab_link": true
    },
    "accelerator": "GPU"
  },
  "nbformat": 4,
  "nbformat_minor": 5
}