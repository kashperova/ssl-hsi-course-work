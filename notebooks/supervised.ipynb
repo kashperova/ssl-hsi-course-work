{
 "cells": [
  {
   "metadata": {},
   "cell_type": "code",
   "outputs": [],
   "execution_count": null,
   "source": [
    "from google.colab import drive\n",
    "\n",
    "drive.mount('/content/gdrive') "
   ],
   "id": "4df4b339af110891"
  },
  {
   "metadata": {},
   "cell_type": "code",
   "outputs": [],
   "execution_count": null,
   "source": "!git clone https://github.com/kashperova/ssl-hsi-course-work.git ",
   "id": "584d43e5d4a0ae40"
  },
  {
   "metadata": {},
   "cell_type": "code",
   "outputs": [],
   "execution_count": null,
   "source": "%cd ssl-hsi-course-work/src ",
   "id": "c4cabcd2d1a5ad29"
  },
  {
   "metadata": {
    "collapsed": true,
    "ExecuteTime": {
     "end_time": "2025-05-29T18:14:08.677786Z",
     "start_time": "2025-05-29T18:14:02.839560Z"
    }
   },
   "cell_type": "code",
   "outputs": [],
   "execution_count": 1,
   "source": [
    "from models.ca_ffdn import CA_FFDN\n",
    "from modules.trainers.supervised import BaseSupervisedTrainer\n",
    "from modules.datasets.hsi import HyperspectralDataset\n",
    "from config.train_config import BaseTrainConfig\n",
    "from utils.seed import set_seed\n",
    "from utils.metrics import Metrics, Task\n",
    "from utils.data import load_hsi_dataset\n",
    "\n",
    "import os\n",
    "import wandb\n",
    "import torch.optim as optim\n",
    "\n",
    "from torch import nn"
   ],
   "id": "initial_id"
  },
  {
   "metadata": {
    "ExecuteTime": {
     "end_time": "2025-05-29T18:14:15.252621Z",
     "start_time": "2025-05-29T18:14:15.245966Z"
    }
   },
   "cell_type": "code",
   "source": "os.environ[\"WANDB_API_KEY\"] = \"\"",
   "id": "491f15b4e0199a7c",
   "outputs": [],
   "execution_count": 2
  },
  {
   "metadata": {
    "ExecuteTime": {
     "end_time": "2025-05-29T18:17:02.694952Z",
     "start_time": "2025-05-29T18:17:00.304549Z"
    }
   },
   "cell_type": "code",
   "source": "wandb.init()",
   "id": "244fa4ef3090874d",
   "outputs": [
    {
     "name": "stderr",
     "output_type": "stream",
     "text": [
      "\u001B[34m\u001B[1mwandb\u001B[0m: Currently logged in as: \u001B[33mskashperova\u001B[0m (\u001B[33mkashperova-test\u001B[0m) to \u001B[32mhttps://api.wandb.ai\u001B[0m. Use \u001B[1m`wandb login --relogin`\u001B[0m to force relogin\n"
     ]
    },
    {
     "data": {
      "text/plain": [
       "<IPython.core.display.HTML object>"
      ],
      "text/html": [
       "Tracking run with wandb version 0.19.11"
      ]
     },
     "metadata": {},
     "output_type": "display_data"
    },
    {
     "data": {
      "text/plain": [
       "<IPython.core.display.HTML object>"
      ],
      "text/html": [
       "Run data is saved locally in <code>/Users/skashperova/PycharmProjects/ssl-hsi-course-work/notebooks/wandb/run-20250529_211701-e7h11q8k</code>"
      ]
     },
     "metadata": {},
     "output_type": "display_data"
    },
    {
     "data": {
      "text/plain": [
       "<IPython.core.display.HTML object>"
      ],
      "text/html": [
       "Syncing run <strong><a href='https://wandb.ai/kashperova-test/ssl-hsi-course-work-notebooks_notebooks/runs/e7h11q8k' target=\"_blank\">rosy-bird-1</a></strong> to <a href='https://wandb.ai/kashperova-test/ssl-hsi-course-work-notebooks_notebooks' target=\"_blank\">Weights & Biases</a> (<a href='https://wandb.me/developer-guide' target=\"_blank\">docs</a>)<br>"
      ]
     },
     "metadata": {},
     "output_type": "display_data"
    },
    {
     "data": {
      "text/plain": [
       "<IPython.core.display.HTML object>"
      ],
      "text/html": [
       " View project at <a href='https://wandb.ai/kashperova-test/ssl-hsi-course-work-notebooks_notebooks' target=\"_blank\">https://wandb.ai/kashperova-test/ssl-hsi-course-work-notebooks_notebooks</a>"
      ]
     },
     "metadata": {},
     "output_type": "display_data"
    },
    {
     "data": {
      "text/plain": [
       "<IPython.core.display.HTML object>"
      ],
      "text/html": [
       " View run at <a href='https://wandb.ai/kashperova-test/ssl-hsi-course-work-notebooks_notebooks/runs/e7h11q8k' target=\"_blank\">https://wandb.ai/kashperova-test/ssl-hsi-course-work-notebooks_notebooks/runs/e7h11q8k</a>"
      ]
     },
     "metadata": {},
     "output_type": "display_data"
    },
    {
     "data": {
      "text/html": [
       "<button onClick=\"this.nextSibling.style.display='block';this.style.display='none';\">Display W&B run</button><iframe src='https://wandb.ai/kashperova-test/ssl-hsi-course-work-notebooks_notebooks/runs/e7h11q8k?jupyter=true' style='border:none;width:100%;height:420px;display:none;'></iframe>"
      ],
      "text/plain": [
       "<wandb.sdk.wandb_run.Run at 0x147c27e00>"
      ]
     },
     "execution_count": 10,
     "metadata": {},
     "output_type": "execute_result"
    }
   ],
   "execution_count": 10
  },
  {
   "cell_type": "code",
   "id": "ceba28c87dca0f4d",
   "metadata": {
    "ExecuteTime": {
     "end_time": "2025-05-29T18:14:18.449186Z",
     "start_time": "2025-05-29T18:14:18.433907Z"
    }
   },
   "source": [
    "set_seed(42)"
   ],
   "outputs": [
    {
     "name": "stdout",
     "output_type": "stream",
     "text": [
      "Random seed set to 42\n"
     ]
    }
   ],
   "execution_count": 3
  },
  {
   "metadata": {
    "ExecuteTime": {
     "end_time": "2025-05-29T18:14:20.982306Z",
     "start_time": "2025-05-29T18:14:20.978869Z"
    }
   },
   "cell_type": "code",
   "source": [
    "class TrainConfig(BaseTrainConfig):\n",
    "    epochs: int = 100\n",
    "    train_batch_size: int = 64\n",
    "    eval_batch_size: int = 64\n",
    "    train_test_split: float = 0.7"
   ],
   "id": "18d962906ec11803",
   "outputs": [],
   "execution_count": 4
  },
  {
   "cell_type": "code",
   "id": "1ea953116ba3b257",
   "metadata": {
    "ExecuteTime": {
     "end_time": "2025-05-29T18:14:21.956216Z",
     "start_time": "2025-05-29T18:14:21.806840Z"
    }
   },
   "source": [
    "patches, labels = load_hsi_dataset(\n",
    "    dataset_name=\"IndianPines\", root_dir=\"../data\", pca_components=30, patch_size=15\n",
    ")"
   ],
   "outputs": [],
   "execution_count": 5
  },
  {
   "cell_type": "code",
   "id": "cf518467b4a32fb6",
   "metadata": {
    "ExecuteTime": {
     "end_time": "2025-05-29T18:14:23.006172Z",
     "start_time": "2025-05-29T18:14:23.001942Z"
    }
   },
   "source": "dataset = HyperspectralDataset(patches, labels)",
   "outputs": [],
   "execution_count": 6
  },
  {
   "metadata": {
    "ExecuteTime": {
     "end_time": "2025-05-29T18:15:08.673205Z",
     "start_time": "2025-05-29T18:15:08.337338Z"
    }
   },
   "cell_type": "code",
   "source": [
    "model = CA_FFDN(in_channels=30, num_classes=16)\n",
    "optimizer = optim.Adam(model.parameters(), lr=1e-4)\n",
    "scheduler = optim.lr_scheduler.ReduceLROnPlateau(optimizer, patience=10, factor=0.5)\n",
    "criterion = nn.CrossEntropyLoss()\n",
    "\n",
    "trainer = BaseSupervisedTrainer(\n",
    "    model=model,\n",
    "    optimizer=optimizer,\n",
    "    lr_scheduler=scheduler,\n",
    "    dataset=dataset,\n",
    "    config=TrainConfig(),\n",
    "    metrics=Metrics(task=Task.MULTICLASS_CLASSIFICATION, num_classes=16, average=\"micro\"),\n",
    "    loss_fn=criterion\n",
    ")"
   ],
   "id": "b707322e70231e4",
   "outputs": [],
   "execution_count": 8
  },
  {
   "metadata": {
    "ExecuteTime": {
     "end_time": "2025-05-29T18:15:58.139081Z",
     "start_time": "2025-05-29T18:15:10.995962Z"
    }
   },
   "cell_type": "code",
   "source": "trainer.train(verbose=True)",
   "id": "b22bfd6d8b9290df",
   "outputs": [
    {
     "name": "stderr",
     "output_type": "stream",
     "text": [
      "Training:   0%|          | 0/100 [00:47<?, ?it/s]\n"
     ]
    },
    {
     "ename": "Error",
     "evalue": "You must call wandb.init() before wandb.log()",
     "output_type": "error",
     "traceback": [
      "\u001B[31m---------------------------------------------------------------------------\u001B[39m",
      "\u001B[31mError\u001B[39m                                     Traceback (most recent call last)",
      "\u001B[36mCell\u001B[39m\u001B[36m \u001B[39m\u001B[32mIn[9]\u001B[39m\u001B[32m, line 1\u001B[39m\n\u001B[32m----> \u001B[39m\u001B[32m1\u001B[39m \u001B[43mtrainer\u001B[49m\u001B[43m.\u001B[49m\u001B[43mtrain\u001B[49m\u001B[43m(\u001B[49m\u001B[43mverbose\u001B[49m\u001B[43m=\u001B[49m\u001B[38;5;28;43;01mTrue\u001B[39;49;00m\u001B[43m)\u001B[49m\n",
      "\u001B[36mFile \u001B[39m\u001B[32m~/PycharmProjects/ssl-hsi-course-work/src/modules/trainers/supervised.py:127\u001B[39m, in \u001B[36mBaseSupervisedTrainer.train\u001B[39m\u001B[34m(self, verbose)\u001B[39m\n\u001B[32m    125\u001B[39m train_loss = \u001B[38;5;28mself\u001B[39m.train_step()\n\u001B[32m    126\u001B[39m \u001B[38;5;28mself\u001B[39m.train_losses.append(train_loss)\n\u001B[32m--> \u001B[39m\u001B[32m127\u001B[39m \u001B[38;5;28;43mself\u001B[39;49m\u001B[43m.\u001B[49m\u001B[43mlogger\u001B[49m\u001B[43m.\u001B[49m\u001B[43mlog_train_epoch\u001B[49m\u001B[43m(\u001B[49m\u001B[43mtrain_loss\u001B[49m\u001B[43m=\u001B[49m\u001B[43mtrain_loss\u001B[49m\u001B[43m)\u001B[49m\n\u001B[32m    129\u001B[39m \u001B[38;5;28mself\u001B[39m.eval_metrics.reset()\n\u001B[32m    130\u001B[39m eval_loss = \u001B[38;5;28mself\u001B[39m.eval_step(verbose=verbose, training=\u001B[38;5;28;01mTrue\u001B[39;00m)\n",
      "\u001B[36mFile \u001B[39m\u001B[32m~/PycharmProjects/ssl-hsi-course-work/src/modules/logger/wb.py:20\u001B[39m, in \u001B[36mWBLogger.log_train_epoch\u001B[39m\u001B[34m(self, **kwargs)\u001B[39m\n\u001B[32m     16\u001B[39m \u001B[38;5;28;01mif\u001B[39;00m \u001B[38;5;28mself\u001B[39m._train_metrics \u001B[38;5;129;01mis\u001B[39;00m \u001B[38;5;129;01mnot\u001B[39;00m \u001B[38;5;28;01mNone\u001B[39;00m:\n\u001B[32m     17\u001B[39m     logs.update(\n\u001B[32m     18\u001B[39m         {\u001B[33mf\u001B[39m\u001B[33m\"\u001B[39m\u001B[33mtrain \u001B[39m\u001B[38;5;132;01m{\u001B[39;00mk\u001B[38;5;132;01m}\u001B[39;00m\u001B[33m\"\u001B[39m: v \u001B[38;5;28;01mfor\u001B[39;00m k, v \u001B[38;5;129;01min\u001B[39;00m \u001B[38;5;28mself\u001B[39m._train_metrics.to_dict().items()}\n\u001B[32m     19\u001B[39m     )\n\u001B[32m---> \u001B[39m\u001B[32m20\u001B[39m \u001B[38;5;28;43mself\u001B[39;49m\u001B[43m.\u001B[49m\u001B[43m__log\u001B[49m\u001B[43m(\u001B[49m\u001B[43mlogs\u001B[49m\u001B[43m)\u001B[49m\n",
      "\u001B[36mFile \u001B[39m\u001B[32m~/PycharmProjects/ssl-hsi-course-work/src/modules/logger/wb.py:32\u001B[39m, in \u001B[36mWBLogger.__log\u001B[39m\u001B[34m(self, logs)\u001B[39m\n\u001B[32m     30\u001B[39m \u001B[38;5;28;01mdef\u001B[39;00m\u001B[38;5;250m \u001B[39m\u001B[34m__log\u001B[39m(\u001B[38;5;28mself\u001B[39m, logs: \u001B[38;5;28mdict\u001B[39m[\u001B[38;5;28mstr\u001B[39m, Any]):\n\u001B[32m     31\u001B[39m     logs = {\u001B[33mf\u001B[39m\u001B[33m\"\u001B[39m\u001B[38;5;132;01m{\u001B[39;00m\u001B[38;5;28mself\u001B[39m.alias\u001B[38;5;132;01m}\u001B[39;00m\u001B[33m \u001B[39m\u001B[38;5;132;01m{\u001B[39;00mk\u001B[38;5;132;01m}\u001B[39;00m\u001B[33m\"\u001B[39m: v \u001B[38;5;28;01mfor\u001B[39;00m k, v \u001B[38;5;129;01min\u001B[39;00m logs.items()}\n\u001B[32m---> \u001B[39m\u001B[32m32\u001B[39m     \u001B[43mwandb\u001B[49m\u001B[43m.\u001B[49m\u001B[43mlog\u001B[49m\u001B[43m(\u001B[49m\u001B[43mlogs\u001B[49m\u001B[43m)\u001B[49m\n",
      "\u001B[36mFile \u001B[39m\u001B[32m~/PycharmProjects/ssl-hsi-course-work/.venv/lib/python3.13/site-packages/wandb/sdk/lib/preinit.py:36\u001B[39m, in \u001B[36mPreInitCallable.<locals>.preinit_wrapper\u001B[39m\u001B[34m(*args, **kwargs)\u001B[39m\n\u001B[32m     35\u001B[39m \u001B[38;5;28;01mdef\u001B[39;00m\u001B[38;5;250m \u001B[39m\u001B[34mpreinit_wrapper\u001B[39m(*args: Any, **kwargs: Any) -> Any:\n\u001B[32m---> \u001B[39m\u001B[32m36\u001B[39m     \u001B[38;5;28;01mraise\u001B[39;00m wandb.Error(\u001B[33mf\u001B[39m\u001B[33m\"\u001B[39m\u001B[33mYou must call wandb.init() before \u001B[39m\u001B[38;5;132;01m{\u001B[39;00mname\u001B[38;5;132;01m}\u001B[39;00m\u001B[33m()\u001B[39m\u001B[33m\"\u001B[39m)\n",
      "\u001B[31mError\u001B[39m: You must call wandb.init() before wandb.log()"
     ]
    }
   ],
   "execution_count": 9
  },
  {
   "metadata": {},
   "cell_type": "code",
   "outputs": [],
   "execution_count": null,
   "source": "",
   "id": "8f86b3be6df7461c"
  }
 ],
 "metadata": {
  "kernelspec": {
   "display_name": "Python 3",
   "language": "python",
   "name": "python3"
  },
  "language_info": {
   "codemirror_mode": {
    "name": "ipython",
    "version": 2
   },
   "file_extension": ".py",
   "mimetype": "text/x-python",
   "name": "python",
   "nbconvert_exporter": "python",
   "pygments_lexer": "ipython2",
   "version": "2.7.6"
  }
 },
 "nbformat": 4,
 "nbformat_minor": 5
}
